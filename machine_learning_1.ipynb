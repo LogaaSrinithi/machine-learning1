{
  "nbformat": 4,
  "nbformat_minor": 0,
  "metadata": {
    "colab": {
      "provenance": [],
      "authorship_tag": "ABX9TyO/wdTRtU68WsGDMTly0MFj",
      "include_colab_link": true
    },
    "kernelspec": {
      "name": "python3",
      "display_name": "Python 3"
    },
    "language_info": {
      "name": "python"
    }
  },
  "cells": [
    {
      "cell_type": "markdown",
      "metadata": {
        "id": "view-in-github",
        "colab_type": "text"
      },
      "source": [
        "<a href=\"https://colab.research.google.com/github/LogaaSrinithi/machine-learning1/blob/main/machine_learning_1.ipynb\" target=\"_parent\"><img src=\"https://colab.research.google.com/assets/colab-badge.svg\" alt=\"Open In Colab\"/></a>"
      ]
    },
    {
      "cell_type": "markdown",
      "source": [],
      "metadata": {
        "id": "vym0pbq3ph1m"
      }
    },
    {
      "cell_type": "code",
      "source": [
        "import itertools\n",
        "\n",
        "\n",
        "def vc_dimension(hypothesis_set):\n",
        "\n",
        "  n = 4\n",
        "  while True:\n",
        "    points = [(i, j) for i in range(n) for j in range(2)]\n",
        "    shattered_sets = 0\n",
        "    for combination in itertools.combinations(points, n):\n",
        "      is_shattered = True\n",
        "      for labeling in itertools.product([0, 1], repeat=n):\n",
        "        hypotheses = [hypothesis_set(point) for point in combination]\n",
        "        if set(hypotheses) != set(labeling):\n",
        "          is_shattered = False\n",
        "          break\n",
        "      if is_shattered:\n",
        "        shattered_sets += 1\n",
        "      else:\n",
        "        break\n",
        "    if not is_shattered:\n",
        "      break\n",
        "    n += 1\n",
        "  return n-1 if shattered_sets == 2**n else n-2\n",
        "\n",
        "\n",
        "\n",
        "def linear_function(point):\n",
        "  x, y = point\n",
        "  return int(y >= x)\n",
        "\n",
        "\n",
        "print(vc_dimension(linear_function))\n"
      ],
      "metadata": {
        "id": "hPV08dH6QdFq",
        "colab": {
          "base_uri": "https://localhost:8080/"
        },
        "outputId": "838d2039-f087-4f19-d1b8-142039cddba8"
      },
      "execution_count": 7,
      "outputs": [
        {
          "output_type": "stream",
          "name": "stdout",
          "text": [
            "2\n"
          ]
        }
      ]
    }
  ]
}